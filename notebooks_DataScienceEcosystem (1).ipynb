{
  "metadata": {
    "language_info": {
      "codemirror_mode": {
        "name": "python",
        "version": 3
      },
      "file_extension": ".py",
      "mimetype": "text/x-python",
      "name": "python",
      "nbconvert_exporter": "python",
      "pygments_lexer": "ipython3",
      "version": "3.8"
    },
    "kernelspec": {
      "name": "python",
      "display_name": "Python (Pyodide)",
      "language": "python"
    }
  },
  "nbformat_minor": 4,
  "nbformat": 4,
  "cells": [
    {
      "cell_type": "markdown",
      "source": "**Exercise 2: Create markdown cell with title of the notebook**",
      "metadata": {}
    },
    {
      "cell_type": "markdown",
      "source": "<h1>  Data Science Tools and Ecosystem <h1> ",
      "metadata": {}
    },
    {
      "cell_type": "markdown",
      "source": "**Exercise 3 - Create a markdown cell for an introduction**",
      "metadata": {}
    },
    {
      "cell_type": "markdown",
      "source": "In this notebook, Data Science Tools and Ecosystem are summarized.",
      "metadata": {}
    },
    {
      "cell_type": "markdown",
      "source": "**Exercise 10 - Insert a markdown cell to list Objectives**",
      "metadata": {}
    },
    {
      "cell_type": "markdown",
      "source": "**Objectives**\n+ List popular languages for Data Science\n+ List Data science libraries\n+ Create headings, and add text in bold and italics in Markdown\n+ Create Tables and ordered and unordered lists in Markdown \n+ Evaluate arithmetic expressions in code cells.",
      "metadata": {}
    },
    {
      "cell_type": "markdown",
      "source": "**Exercise 4 - Create a markdown cell to list data science languages**",
      "metadata": {}
    },
    {
      "cell_type": "markdown",
      "source": "1. Python\n2. R\n3. SQL\n4. Scala",
      "metadata": {}
    },
    {
      "cell_type": "markdown",
      "source": "**Exercise 5 - Create a markdown cell to list data science libraries**",
      "metadata": {}
    },
    {
      "cell_type": "markdown",
      "source": "Some of the commonly used libraries used by Data Scientists include: \n1. Pandas\n2. Matplotlib\n3. Numpy\n5. ggplot",
      "metadata": {}
    },
    {
      "cell_type": "markdown",
      "source": "**Exercise 6 - Create a markdown cell with a table of Data Science tools (open source)**",
      "metadata": {}
    },
    {
      "cell_type": "markdown",
      "source": "|Data Science Tools|\n|:----------------:|\n|RStudio|\n|Jupyter Notebooks|\n|Spyder|",
      "metadata": {}
    },
    {
      "cell_type": "markdown",
      "source": "**Exercise 7 - Create a markdown cell introducing arithmetic expression examples**",
      "metadata": {}
    },
    {
      "cell_type": "markdown",
      "source": "<h3>Below are a few examples of evaluating arithmetic expressions in Python<h3>",
      "metadata": {}
    },
    {
      "cell_type": "markdown",
      "source": "**Exercise 8 - Create a code cell to multiply and add numbers**",
      "metadata": {}
    },
    {
      "cell_type": "code",
      "source": "#This a simple arithmetic expression to mutiply then add integers\n(3*4)+5",
      "metadata": {
        "trusted": true
      },
      "execution_count": 7,
      "outputs": [
        {
          "execution_count": 7,
          "output_type": "execute_result",
          "data": {
            "text/plain": "17"
          },
          "metadata": {}
        }
      ]
    },
    {
      "cell_type": "markdown",
      "source": "**Exercise 9 - Create a code cell to convert minutes to hours**",
      "metadata": {}
    },
    {
      "cell_type": "code",
      "source": "#This will convert 200 minutes to hours by diving by 60\nminutes =200\nhours = minutes / 60\nprint(\"The total minutes:\",minutes,\"min\")\nprint(\"In hours:\", hours, \"hrs\")",
      "metadata": {
        "trusted": true
      },
      "execution_count": 16,
      "outputs": [
        {
          "name": "stdout",
          "text": "The total minutes: 200 min\nIn hours: 3.3333333333333335 hrs\n",
          "output_type": "stream"
        }
      ]
    },
    {
      "cell_type": "markdown",
      "source": "**Exercise 11 - Create a markdown cell to indicate the Author's name**",
      "metadata": {}
    },
    {
      "cell_type": "markdown",
      "source": "<h2>Author<h2>",
      "metadata": {}
    },
    {
      "cell_type": "markdown",
      "source": "Adrián Alejandro Valencia Martínez",
      "metadata": {}
    },
    {
      "cell_type": "code",
      "source": "",
      "metadata": {},
      "execution_count": null,
      "outputs": []
    }
  ]
}